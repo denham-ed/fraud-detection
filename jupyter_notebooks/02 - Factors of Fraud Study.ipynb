{
 "cells": [
  {
   "attachments": {},
   "cell_type": "markdown",
   "metadata": {},
   "source": [
    "# **Factors of Fraud**"
   ]
  },
  {
   "attachments": {},
   "cell_type": "markdown",
   "metadata": {},
   "source": [
    "## Objectives\n",
    "* Answer business requirement 1:\n",
    "    * ACB would like to understand the patterns in the transaction data to better understand the most relevant variables correlated to a fraudulent transaction.*   \n",
    "\n",
    "## Inputs\n",
    "\n",
    "* outputs/datasets/collection/card_transactions.csv\n",
    "\n",
    "## Outputs\n",
    "\n",
    "* Generate code and visualisations that fulfil business requirement 1, above."
   ]
  },
  {
   "cell_type": "markdown",
   "metadata": {},
   "source": []
  }
 ],
 "metadata": {
  "language_info": {
   "name": "python"
  },
  "orig_nbformat": 4
 },
 "nbformat": 4,
 "nbformat_minor": 2
}
