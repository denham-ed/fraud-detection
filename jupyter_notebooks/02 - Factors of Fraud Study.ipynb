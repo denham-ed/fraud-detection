{
 "cells": [
  {
   "attachments": {},
   "cell_type": "markdown",
   "metadata": {},
   "source": [
    "# **Factors of Fraud**"
   ]
  },
  {
   "attachments": {},
   "cell_type": "markdown",
   "metadata": {},
   "source": [
    "## Objectives\n",
    "* Answer business requirement 1:\n",
    "    * ACB would like to understand the patterns in the transaction data to better understand the most relevant variables correlated to a fraudulent transaction.*   \n",
    "\n",
    "## Inputs\n",
    "\n",
    "* outputs/datasets/collection/card_transactions.csv\n",
    "\n",
    "## Outputs\n",
    "\n",
    "* Generate code and visualisations that fulfil business requirement 1, above."
   ]
  },
  {
   "attachments": {},
   "cell_type": "markdown",
   "metadata": {},
   "source": [
    "___"
   ]
  },
  {
   "attachments": {},
   "cell_type": "markdown",
   "metadata": {},
   "source": [
    "## Set up the Working Directory"
   ]
  },
  {
   "attachments": {},
   "cell_type": "markdown",
   "metadata": {},
   "source": [
    "Define and confirm the current working directory"
   ]
  },
  {
   "cell_type": "code",
   "execution_count": null,
   "metadata": {},
   "outputs": [],
   "source": [
    "import os\n",
    "current_dir = os.getcwd()\n",
    "os.chdir(os.path.dirname(current_dir))\n",
    "current_dir = os.getcwd()\n",
    "current_dir"
   ]
  },
  {
   "attachments": {},
   "cell_type": "markdown",
   "metadata": {},
   "source": [
    "___"
   ]
  },
  {
   "attachments": {},
   "cell_type": "markdown",
   "metadata": {},
   "source": [
    "## Load Collected Data"
   ]
  },
  {
   "cell_type": "code",
   "execution_count": null,
   "metadata": {},
   "outputs": [],
   "source": [
    "import pandas as pd\n",
    "df_raw_path = \"outputs/datasets/collection/card_transactions.csv\"\n",
    "df = pd.read_csv(df_raw_path)\n",
    "df.head()"
   ]
  },
  {
   "attachments": {},
   "cell_type": "markdown",
   "metadata": {},
   "source": [
    "___"
   ]
  },
  {
   "attachments": {},
   "cell_type": "markdown",
   "metadata": {},
   "source": [
    "## Correlation Study"
   ]
  },
  {
   "attachments": {},
   "cell_type": "markdown",
   "metadata": {},
   "source": [
    "Credit: Code Institute Walkthrough 2 - Churnometer\n",
    "Add infromation about Pearsaon and Spearman"
   ]
  },
  {
   "cell_type": "code",
   "execution_count": null,
   "metadata": {},
   "outputs": [],
   "source": [
    "corr_spearman = df.corr(method='spearman')['fraud'].sort_values(key=abs, ascending=False)[1:]\n",
    "corr_spearman"
   ]
  },
  {
   "cell_type": "code",
   "execution_count": null,
   "metadata": {},
   "outputs": [],
   "source": [
    "corr_pearson = df.corr(method='pearson')['fraud'].sort_values(key=abs, ascending=False)[1:]\n",
    "corr_pearson"
   ]
  },
  {
   "attachments": {},
   "cell_type": "markdown",
   "metadata": {},
   "source": [
    "For both Spearman and Pearson, there is weak or moderate correlation between Fraud and any given variable. However, the top four variables given by both methods - ratio_to_median_purchase_price, online_order, distance_from_home and used_pin_number seem worthy of futher investigation."
   ]
  },
  {
   "attachments": {},
   "cell_type": "markdown",
   "metadata": {},
   "source": [
    "## Exploratory Data Analysis (EDA) on Selected Variables"
   ]
  },
  {
   "cell_type": "code",
   "execution_count": null,
   "metadata": {},
   "outputs": [],
   "source": [
    "vars_to_study = ['ratio_to_median_purchase_price', 'online_order', 'distance_from_home','used_pin_number']"
   ]
  },
  {
   "cell_type": "code",
   "execution_count": null,
   "metadata": {},
   "outputs": [],
   "source": [
    "df_eda = df.filter(vars_to_study + ['fraud'])\n",
    "df.head()"
   ]
  },
  {
   "attachments": {},
   "cell_type": "markdown",
   "metadata": {},
   "source": [
    "For this EDA, it is more useful to view the encoded variables as objects/strings."
   ]
  },
  {
   "cell_type": "code",
   "execution_count": null,
   "metadata": {},
   "outputs": [],
   "source": [
    "df_eda['online_order'] = df_eda['online_order'].replace({1: 'Online', 0: 'Not Online'})\n",
    "df_eda['used_pin_number'] = df_eda['used_pin_number'].replace({1: 'Pin Used', 0: 'No Pin'})\n",
    "df_eda['fraud'] = df_eda['fraud'].replace({1.0: 'Fraud', 0: 'No Fraud'})\n",
    "df_eda.head()"
   ]
  },
  {
   "attachments": {},
   "cell_type": "markdown",
   "metadata": {},
   "source": [
    "### Variable Distribution by Fraud"
   ]
  },
  {
   "attachments": {},
   "cell_type": "markdown",
   "metadata": {},
   "source": [
    "Categorical Variables - Online Order & Used PIN Number"
   ]
  },
  {
   "cell_type": "code",
   "execution_count": null,
   "metadata": {},
   "outputs": [],
   "source": [
    "import matplotlib.pyplot as plt\n",
    "import seaborn as sns\n",
    "sns.set_style('whitegrid')\n",
    "\n",
    "\n",
    "def plot_categorical(df, col, target_var):\n",
    "    plt.figure(figsize=(12, 5))\n",
    "    sns.countplot(data=df, x=col, hue=target_var,\n",
    "                  order=df[col].value_counts().index)\n",
    "    plt.xticks(rotation=45)\n",
    "    plt.ylabel(\"Count\")\n",
    "    plt.xlabel(f\"{col.replace('_',' ').title()}\")\n",
    "    plt.title(f\"{col.replace('_',' ').title()}\", fontsize=20, y=1.05)\n",
    "    plt.legend(title=\"Fraud\")\n",
    "    plt.show()\n",
    "\n",
    "target_var = 'fraud'\n",
    "for col in vars_to_study:\n",
    "    if df_eda[col].dtype == 'object':\n",
    "        plot_categorical(df_eda, col, target_var)\n",
    "        print(\"\\n\\n\")"
   ]
  },
  {
   "attachments": {},
   "cell_type": "markdown",
   "metadata": {},
   "source": [
    "These graphs suggest that:\n",
    "1. A transaction is more likely to be fraudulent if no PIN Number is used.\n",
    "2. Online transactions are more likely to be fraudulent than offline transactions"
   ]
  },
  {
   "attachments": {},
   "cell_type": "markdown",
   "metadata": {},
   "source": [
    "### Numerical/Continuous Variables - Ratio to Median Purchase Price & Distance from Home"
   ]
  },
  {
   "cell_type": "code",
   "execution_count": null,
   "metadata": {},
   "outputs": [],
   "source": [
    "def plot_numerical(df, col, target_var,xlim=None):\n",
    "    plt.figure(figsize=(8, 5))\n",
    "    sns.histplot(data=df, x=col, hue=target_var, kde=True, element=\"step\")\n",
    "    plt.ylabel(\"Count\")\n",
    "    plt.xlabel(f\"{col.replace('_',' ').title()}\")\n",
    "    plt.title(f\"{col.replace('_',' ').title()}\", fontsize=20, y=1.05)\n",
    "    if xlim is not None:\n",
    "        plt.xlim(xlim)  \n",
    "    plt.show()\n",
    "\n",
    "\n",
    "target_var = 'fraud'\n",
    "for col in vars_to_study:\n",
    "    if df_eda[col].dtype == 'float64':\n",
    "        plot_numerical(df_eda, col, target_var)\n",
    "        print(\"\\n\\n\")"
   ]
  },
  {
   "attachments": {},
   "cell_type": "markdown",
   "metadata": {},
   "source": [
    "These graphs are difficult to interpret as the ranges for the variables are so large. The graphs below limit the x-axis at the 95th percentile."
   ]
  },
  {
   "cell_type": "code",
   "execution_count": null,
   "metadata": {},
   "outputs": [],
   "source": [
    "nth_percentile = 95\n",
    "for col in vars_to_study:\n",
    "    if df_eda[col].dtype == 'float64':\n",
    "        variable_percentile = df_eda[col].quantile(nth_percentile/100)\n",
    "        plot_numerical(df_eda, col, target_var, xlim=[0, variable_percentile])\n",
    "        print(\"\\n\\n\")"
   ]
  },
  {
   "attachments": {},
   "cell_type": "markdown",
   "metadata": {},
   "source": [
    "However, these graphs are still inconclusive and require further investigation."
   ]
  },
  {
   "attachments": {},
   "cell_type": "markdown",
   "metadata": {},
   "source": [
    "## Parallel Plot"
   ]
  },
  {
   "attachments": {},
   "cell_type": "markdown",
   "metadata": {},
   "source": [
    "In order to better visualise the data, Ratio to Median Purchase Price and Distance from Home will be discretised."
   ]
  },
  {
   "cell_type": "code",
   "execution_count": null,
   "metadata": {},
   "outputs": [],
   "source": [
    "from feature_engine.discretisation import EqualFrequencyDiscretiser\n",
    "\n",
    "n_classes = 10\n",
    "disc = EqualFrequencyDiscretiser(q=n_classes, variables=['distance_from_home','ratio_to_median_purchase_price'])\n",
    "df_parallel = disc.fit_transform(df_eda)\n",
    "df_parallel.head()"
   ]
  },
  {
   "attachments": {},
   "cell_type": "markdown",
   "metadata": {},
   "source": [
    "The discretised data will also be re-labelled with more meaninful labels."
   ]
  },
  {
   "cell_type": "code",
   "execution_count": null,
   "metadata": {},
   "outputs": [],
   "source": [
    "\n",
    "classes_ranges = disc.binner_dict_['distance_from_home'][1:-1]\n",
    "\n",
    "distance_map = {}\n",
    "for n in range(0, n_classes):\n",
    "    if n == 0:\n",
    "        distance_map[n] = f\"<{round(classes_ranges[0],2)}\"\n",
    "    elif n == n_classes-1:\n",
    "        distance_map[n] = f\"+{round(classes_ranges[-1],2)}\"\n",
    "    else:\n",
    "        distance_map[n] = f\"{round(classes_ranges[n-1],2)} to {round(classes_ranges[n],2)}\""
   ]
  },
  {
   "cell_type": "code",
   "execution_count": null,
   "metadata": {},
   "outputs": [],
   "source": [
    "classes_ranges = disc.binner_dict_['ratio_to_median_purchase_price'][1:-1]\n",
    "\n",
    "ratio_labels_map = {}\n",
    "for n in range(0, n_classes):\n",
    "    if n == 0:\n",
    "        ratio_labels_map[n] = f\"<{round(classes_ranges[0],2)}\"\n",
    "    elif n == n_classes-1:\n",
    "        ratio_labels_map[n] = f\"+{round(classes_ranges[-1],2)}\"\n",
    "    else:\n",
    "        ratio_labels_map[n] = f\"{round(classes_ranges[n-1],2)} to {round(classes_ranges[n],2)}\""
   ]
  },
  {
   "cell_type": "code",
   "execution_count": null,
   "metadata": {},
   "outputs": [],
   "source": [
    "df_parallel['distance_from_home'] = df_parallel['distance_from_home'].replace(distance_map)\n",
    "df_parallel['ratio_to_median_purchase_price'] = df_parallel['ratio_to_median_purchase_price'].replace(ratio_labels_map)"
   ]
  },
  {
   "attachments": {},
   "cell_type": "markdown",
   "metadata": {},
   "source": [
    "For the parallel plot, the Fraud variable should also be encoded."
   ]
  },
  {
   "cell_type": "code",
   "execution_count": null,
   "metadata": {},
   "outputs": [],
   "source": [
    "df_parallel['fraud'] = df_parallel['fraud'].replace({'Fraud': 1, 'No Fraud': 0})"
   ]
  },
  {
   "cell_type": "code",
   "execution_count": null,
   "metadata": {},
   "outputs": [],
   "source": [
    "import plotly.graph_objects as go\n",
    "\n",
    "ratio_dim = go.parcats.Dimension(\n",
    "    values=df_parallel.ratio_to_median_purchase_price,\n",
    "    categoryorder='category ascending', label=\"Ratio to Median Purchase Price\"\n",
    ")\n",
    "\n",
    "online_dim = go.parcats.Dimension(\n",
    "    values=df_parallel.online_order, label=\"Online Order\")\n",
    "pin_dim = go.parcats.Dimension(\n",
    "    values=df_parallel.used_pin_number, label=\"Used PIN Number\")\n",
    "\n",
    "distance_dim = go.parcats.Dimension(\n",
    "    values=df_parallel.distance_from_home, label=\"Distance from Home\", categoryorder='category ascending')\n",
    "\n",
    "fraud_dim = go.parcats.Dimension(\n",
    "    values=df_parallel.fraud, label=\"Fraud\", categoryarray=[0, 1], ticktext=['No Fraud', 'Fraud'])\n",
    "\n",
    "colorscale = [[0, 'lightsteelblue'], [1, 'red']]\n",
    "\n",
    "fig = go.Figure(data=[go.Parcats(dimensions=[ratio_dim, distance_dim, online_dim, pin_dim,  fraud_dim],\n",
    "                                 line={\n",
    "    'color': df_parallel['fraud'], 'colorscale': colorscale},\n",
    "    hoveron='color', hoverinfo='count',\n",
    "    labelfont={'size': 18, 'family': 'Arial'},\n",
    "    tickfont={'size': 16, 'family': 'Arial'},\n",
    "    arrangement='freeform')])\n",
    "\n",
    "fig.show()"
   ]
  },
  {
   "cell_type": "code",
   "execution_count": null,
   "metadata": {},
   "outputs": [],
   "source": []
  },
  {
   "cell_type": "code",
   "execution_count": null,
   "metadata": {},
   "outputs": [],
   "source": []
  }
 ],
 "metadata": {
  "kernelspec": {
   "display_name": "Python 3",
   "language": "python",
   "name": "python3"
  },
  "language_info": {
   "codemirror_mode": {
    "name": "ipython",
    "version": 3
   },
   "file_extension": ".py",
   "mimetype": "text/x-python",
   "name": "python",
   "nbconvert_exporter": "python",
   "pygments_lexer": "ipython3",
   "version": "3.11.2"
  },
  "orig_nbformat": 4
 },
 "nbformat": 4,
 "nbformat_minor": 2
}
