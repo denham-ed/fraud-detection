{
 "cells": [
  {
   "attachments": {},
   "cell_type": "markdown",
   "metadata": {},
   "source": [
    "## **Data Cleaning**"
   ]
  },
  {
   "attachments": {},
   "cell_type": "markdown",
   "metadata": {},
   "source": [
    "## Objectives\n",
    "* Evaluate missing data\n",
    "* Clean data\n",
    "\n",
    "## Inputs\n",
    "* outputs/datasets/collection/card_transactions.csv\n",
    "\n",
    "## Outputs\n",
    "* Generate cleaned Train and Test sets, saved under outputs/datasets/cleaned\n",
    "\n"
   ]
  },
  {
   "cell_type": "markdown",
   "metadata": {},
   "source": []
  }
 ],
 "metadata": {
  "language_info": {
   "name": "python"
  },
  "orig_nbformat": 4
 },
 "nbformat": 4,
 "nbformat_minor": 2
}
